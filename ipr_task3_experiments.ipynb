{
  "nbformat": 4,
  "nbformat_minor": 0,
  "metadata": {
    "colab": {
      "provenance": []
    },
    "kernelspec": {
      "name": "python3",
      "display_name": "Python 3"
    },
    "language_info": {
      "name": "python"
    }
  },
  "cells": [
    {
      "cell_type": "code",
      "source": [
        "!pip install numpy==2.0.0 mediapipe==0.10.14 -q"
      ],
      "metadata": {
        "colab": {
          "base_uri": "https://localhost:8080/"
        },
        "id": "8ArXFOpNvs5y",
        "outputId": "f48b9976-fd12-4632-ef68-851f57e5cba9"
      },
      "execution_count": 1,
      "outputs": [
        {
          "output_type": "stream",
          "name": "stdout",
          "text": [
            "\u001b[2K     \u001b[90m━━━━━━━━━━━━━━━━━━━━━━━━━━━━━━━━━━━━━━━━\u001b[0m \u001b[32m60.9/60.9 kB\u001b[0m \u001b[31m1.9 MB/s\u001b[0m eta \u001b[36m0:00:00\u001b[0m\n",
            "\u001b[2K   \u001b[90m━━━━━━━━━━━━━━━━━━━━━━━━━━━━━━━━━━━━━━━━\u001b[0m \u001b[32m19.3/19.3 MB\u001b[0m \u001b[31m86.5 MB/s\u001b[0m eta \u001b[36m0:00:00\u001b[0m\n",
            "\u001b[2K   \u001b[90m━━━━━━━━━━━━━━━━━━━━━━━━━━━━━━━━━━━━━━━━\u001b[0m \u001b[32m35.7/35.7 MB\u001b[0m \u001b[31m16.9 MB/s\u001b[0m eta \u001b[36m0:00:00\u001b[0m\n",
            "\u001b[2K   \u001b[90m━━━━━━━━━━━━━━━━━━━━━━━━━━━━━━━━━━━━━━━━\u001b[0m \u001b[32m294.9/294.9 kB\u001b[0m \u001b[31m18.9 MB/s\u001b[0m eta \u001b[36m0:00:00\u001b[0m\n",
            "\u001b[?25h\u001b[31mERROR: pip's dependency resolver does not currently take into account all the packages that are installed. This behaviour is the source of the following dependency conflicts.\n",
            "grpcio-status 1.71.0 requires protobuf<6.0dev,>=5.26.1, but you have protobuf 4.25.8 which is incompatible.\n",
            "ydf 0.12.0 requires protobuf<6.0.0,>=5.29.1, but you have protobuf 4.25.8 which is incompatible.\u001b[0m\u001b[31m\n",
            "\u001b[0m"
          ]
        }
      ]
    },
    {
      "cell_type": "code",
      "source": [
        "import cv2\n",
        "import os\n",
        "import mediapipe as mp\n",
        "import math\n",
        "import numpy as np"
      ],
      "metadata": {
        "id": "zU2qh3Hivq9I"
      },
      "execution_count": 2,
      "outputs": []
    },
    {
      "cell_type": "code",
      "source": [
        "!unrar x Training.rar"
      ],
      "metadata": {
        "colab": {
          "base_uri": "https://localhost:8080/"
        },
        "id": "uXHDQJo7xNFy",
        "outputId": "08e05aae-00bf-4764-fddc-71a8f9d71ada"
      },
      "execution_count": 3,
      "outputs": [
        {
          "output_type": "stream",
          "name": "stdout",
          "text": [
            "\n",
            "UNRAR 6.11 beta 1 freeware      Copyright (c) 1993-2022 Alexander Roshal\n",
            "\n",
            "\n",
            "Extracting from Training.rar\n",
            "\n",
            "Creating    Training                                                  OK\n",
            "Extracting  Training/001.tif                                             \b\b\b\b  0%\b\b\b\b  1%\b\b\b\b\b  OK \n",
            "Extracting  Training/017.tif                                             \b\b\b\b  1%\b\b\b\b  2%\b\b\b\b\b  OK \n",
            "Extracting  Training/043.tif                                             \b\b\b\b  2%\b\b\b\b  3%\b\b\b\b  4%\b\b\b\b\b  OK \n",
            "Extracting  Training/044.tif                                             \b\b\b\b  4%\b\b\b\b  5%\b\b\b\b\b  OK \n",
            "Extracting  Training/055.tif                                             \b\b\b\b  5%\b\b\b\b  6%\b\b\b\b  7%\b\b\b\b\b  OK \n",
            "Extracting  Training/067.tif                                             \b\b\b\b  7%\b\b\b\b  8%\b\b\b\b\b  OK \n",
            "Extracting  Training/070.tif                                             \b\b\b\b  8%\b\b\b\b  9%\b\b\b\b 10%\b\b\b\b\b  OK \n",
            "Extracting  Training/078.tif                                             \b\b\b\b 10%\b\b\b\b 11%\b\b\b\b\b  OK \n",
            "Extracting  Training/090.tif                                             \b\b\b\b 11%\b\b\b\b 12%\b\b\b\b\b  OK \n",
            "Extracting  Training/091.tif                                             \b\b\b\b 12%\b\b\b\b 13%\b\b\b\b 14%\b\b\b\b\b  OK \n",
            "Extracting  Training/098.tif                                             \b\b\b\b 14%\b\b\b\b 15%\b\b\b\b\b  OK \n",
            "Extracting  Training/103.tif                                             \b\b\b\b 15%\b\b\b\b 16%\b\b\b\b 17%\b\b\b\b\b  OK \n",
            "Extracting  Training/107.tif                                             \b\b\b\b 17%\b\b\b\b 18%\b\b\b\b\b  OK \n",
            "Extracting  Training/108.tif                                             \b\b\b\b 18%\b\b\b\b 19%\b\b\b\b\b  OK \n",
            "Extracting  Training/125.tif                                             \b\b\b\b 19%\b\b\b\b 20%\b\b\b\b 21%\b\b\b\b\b  OK \n",
            "Extracting  Training/134.tif                                             \b\b\b\b 21%\b\b\b\b 22%\b\b\b\b\b  OK \n",
            "Extracting  Training/144.tif                                             \b\b\b\b 22%\b\b\b\b 23%\b\b\b\b 24%\b\b\b\b\b  OK \n",
            "Extracting  Training/145.tif                                             \b\b\b\b 24%\b\b\b\b 25%\b\b\b\b\b  OK \n",
            "Extracting  Training/146.tif                                             \b\b\b\b 25%\b\b\b\b 26%\b\b\b\b 27%\b\b\b\b\b  OK \n",
            "Extracting  Training/147.tif                                             \b\b\b\b 27%\b\b\b\b 28%\b\b\b\b\b  OK \n",
            "Extracting  Training/150.tif                                             \b\b\b\b 28%\b\b\b\b 29%\b\b\b\b 30%\b\b\b\b\b  OK \n",
            "Extracting  Training/152.tif                                             \b\b\b\b 30%\b\b\b\b 31%\b\b\b\b\b  OK \n",
            "Extracting  Training/156.tif                                             \b\b\b\b 31%\b\b\b\b 32%\b\b\b\b 33%\b\b\b\b\b  OK \n",
            "Extracting  Training/158.tif                                             \b\b\b\b 33%\b\b\b\b 34%\b\b\b\b\b  OK \n",
            "Extracting  Training/162.tif                                             \b\b\b\b 34%\b\b\b\b 35%\b\b\b\b 36%\b\b\b\b\b  OK \n",
            "Extracting  Training/165.tif                                             \b\b\b\b 36%\b\b\b\b 37%\b\b\b\b\b  OK \n",
            "Extracting  Training/168.tif                                             \b\b\b\b 37%\b\b\b\b 38%\b\b\b\b 39%\b\b\b\b\b  OK \n",
            "Extracting  Training/174.tif                                             \b\b\b\b 39%\b\b\b\b 40%\b\b\b\b\b  OK \n",
            "Extracting  Training/175.tif                                             \b\b\b\b 40%\b\b\b\b 41%\b\b\b\b\b  OK \n",
            "Extracting  Training/177.tif                                             \b\b\b\b 42%\b\b\b\b 43%\b\b\b\b\b  OK \n",
            "Extracting  Training/182.tif                                             \b\b\b\b 43%\b\b\b\b 44%\b\b\b\b\b  OK \n",
            "Extracting  Training/184.tif                                             \b\b\b\b 44%\b\b\b\b 45%\b\b\b\b 46%\b\b\b\b\b  OK \n",
            "Extracting  Training/185.tif                                             \b\b\b\b 46%\b\b\b\b 47%\b\b\b\b\b  OK \n",
            "Extracting  Training/187.tif                                             \b\b\b\b 47%\b\b\b\b 48%\b\b\b\b 49%\b\b\b\b\b  OK \n",
            "Extracting  Training/195.tif                                             \b\b\b\b 49%\b\b\b\b 50%\b\b\b\b\b  OK \n",
            "Extracting  Training/196.tif                                             \b\b\b\b 50%\b\b\b\b 51%\b\b\b\b 52%\b\b\b\b\b  OK \n",
            "Extracting  Training/201.tif                                             \b\b\b\b 52%\b\b\b\b 53%\b\b\b\b\b  OK \n",
            "Extracting  Training/209.tif                                             \b\b\b\b 53%\b\b\b\b 54%\b\b\b\b 55%\b\b\b\b\b  OK \n",
            "Extracting  Training/217.tif                                             \b\b\b\b 55%\b\b\b\b 56%\b\b\b\b\b  OK \n",
            "Extracting  Training/225.tif                                             \b\b\b\b 56%\b\b\b\b 57%\b\b\b\b 58%\b\b\b\b\b  OK \n",
            "Extracting  Training/226.tif                                             \b\b\b\b 58%\b\b\b\b 59%\b\b\b\b\b  OK \n",
            "Extracting  Training/230.tif                                             \b\b\b\b 59%\b\b\b\b 60%\b\b\b\b 61%\b\b\b\b\b  OK \n",
            "Extracting  Training/231.tif                                             \b\b\b\b 61%\b\b\b\b 62%\b\b\b\b\b  OK \n",
            "Extracting  Training/235.tif                                             \b\b\b\b 62%\b\b\b\b 63%\b\b\b\b 64%\b\b\b\b\b  OK \n",
            "Extracting  Training/239.tif                                             \b\b\b\b 64%\b\b\b\b 65%\b\b\b\b\b  OK \n",
            "Extracting  Training/240.tif                                             \b\b\b\b 65%\b\b\b\b 66%\b\b\b\b 67%\b\b\b\b\b  OK \n",
            "Extracting  Training/247.tif                                             \b\b\b\b 67%\b\b\b\b 68%\b\b\b\b 69%\b\b\b\b\b  OK \n",
            "Extracting  Training/248.tif                                             \b\b\b\b 69%\b\b\b\b 70%\b\b\b\b\b  OK \n",
            "Extracting  Training/251.tif                                             \b\b\b\b 70%\b\b\b\b 71%\b\b\b\b 72%\b\b\b\b\b  OK \n",
            "Extracting  Training/252.tif                                             \b\b\b\b 72%\b\b\b\b 73%\b\b\b\b\b  OK \n",
            "Extracting  Training/254.tif                                             \b\b\b\b 74%\b\b\b\b 75%\b\b\b\b\b  OK \n",
            "Extracting  Training/265.tif                                             \b\b\b\b 75%\b\b\b\b 76%\b\b\b\b 77%\b\b\b\b\b  OK \n",
            "Extracting  Training/266.tif                                             \b\b\b\b 77%\b\b\b\b 78%\b\b\b\b\b  OK \n",
            "Extracting  Training/267.tif                                             \b\b\b\b 78%\b\b\b\b 79%\b\b\b\b 80%\b\b\b\b\b  OK \n",
            "Extracting  Training/271.tif                                             \b\b\b\b 80%\b\b\b\b 81%\b\b\b\b\b  OK \n",
            "Extracting  Training/272.tif                                             \b\b\b\b 81%\b\b\b\b 82%\b\b\b\b 83%\b\b\b\b\b  OK \n",
            "Extracting  Training/274.tif                                             \b\b\b\b 83%\b\b\b\b 84%\b\b\b\b\b  OK \n",
            "Extracting  Training/277.tif                                             \b\b\b\b 84%\b\b\b\b 85%\b\b\b\b\b  OK \n",
            "Extracting  Training/280.tif                                             \b\b\b\b 85%\b\b\b\b 86%\b\b\b\b 87%\b\b\b\b\b  OK \n",
            "Extracting  Training/281.tif                                             \b\b\b\b 87%\b\b\b\b 88%\b\b\b\b 89%\b\b\b\b\b  OK \n",
            "Extracting  Training/284.tif                                             \b\b\b\b 89%\b\b\b\b 90%\b\b\b\b\b  OK \n",
            "Extracting  Training/286.tif                                             \b\b\b\b 90%\b\b\b\b 91%\b\b\b\b 92%\b\b\b\b\b  OK \n",
            "Extracting  Training/288.tif                                             \b\b\b\b 92%\b\b\b\b 93%\b\b\b\b\b  OK \n",
            "Extracting  Training/289.tif                                             \b\b\b\b 93%\b\b\b\b 94%\b\b\b\b 95%\b\b\b\b\b  OK \n",
            "Extracting  Training/292.tif                                             \b\b\b\b 95%\b\b\b\b 96%\b\b\b\b\b  OK \n",
            "Extracting  Training/295.tif                                             \b\b\b\b 96%\b\b\b\b 97%\b\b\b\b 98%\b\b\b\b\b  OK \n",
            "Extracting  Training/300.tif                                             \b\b\b\b 98%\b\b\b\b 99%\b\b\b\b\b  OK \n",
            "All OK\n"
          ]
        }
      ]
    },
    {
      "cell_type": "code",
      "source": [
        "IMAGE_DIR = 'Training'\n",
        "OUTPUT_DIR = 'output'\n",
        "THRESHOLD = 0.98"
      ],
      "metadata": {
        "id": "u5V7jLdqxdVA"
      },
      "execution_count": 4,
      "outputs": []
    },
    {
      "cell_type": "code",
      "source": [
        "os.makedirs(OUTPUT_DIR, exist_ok=True)"
      ],
      "metadata": {
        "id": "1iU_6f8rxi1x"
      },
      "execution_count": 5,
      "outputs": []
    },
    {
      "cell_type": "code",
      "source": [
        "def cosine_similarity(v1, v2):\n",
        "    dot = v1[0] * v2[0] + v1[1] * v2[1]\n",
        "    norm1 = math.hypot(v1[0], v1[1])\n",
        "    norm2 = math.hypot(v2[0], v2[1])\n",
        "    if norm1 == 0 or norm2 == 0:\n",
        "        return 0\n",
        "    return dot / (norm1 * norm2)"
      ],
      "metadata": {
        "id": "HHLPpR6foSP7"
      },
      "execution_count": 6,
      "outputs": []
    },
    {
      "cell_type": "code",
      "source": [
        "mp_hands = mp.solutions.hands\n",
        "hands = mp_hands.Hands(\n",
        "    static_image_mode=True,\n",
        "    max_num_hands=1,\n",
        "    min_detection_confidence=0.5\n",
        ")\n",
        "mp_draw = mp.solutions.drawing_utils"
      ],
      "metadata": {
        "id": "yfeFRo4BxjwJ"
      },
      "execution_count": 10,
      "outputs": []
    },
    {
      "cell_type": "code",
      "execution_count": 11,
      "metadata": {
        "colab": {
          "base_uri": "https://localhost:8080/"
        },
        "id": "RSAm9kggvaI8",
        "outputId": "79938b8c-da72-4a73-b27d-5becef9c98dc"
      },
      "outputs": [
        {
          "output_type": "stream",
          "name": "stderr",
          "text": [
            "/usr/local/lib/python3.11/dist-packages/google/protobuf/symbol_database.py:55: UserWarning: SymbolDatabase.GetPrototype() is deprecated. Please use message_factory.GetMessageClass() instead. SymbolDatabase.GetPrototype() will be removed soon.\n",
            "  warnings.warn('SymbolDatabase.GetPrototype() is deprecated. Please '\n"
          ]
        },
        {
          "output_type": "stream",
          "name": "stdout",
          "text": [
            "Processed 209.tif: pose=1+2-3-4-5\n",
            "Processed 134.tif: pose=1+2-3-4-5\n",
            "Processed 043.tif: pose=1+2-3-4-5\n",
            "Processed 295.tif: pose=1-2+3+4+5\n",
            "Processed 239.tif: pose=1+2-3+4+5\n",
            "Processed 001.tif: pose=1-2-3-4+5\n",
            "Processed 251.tif: pose=1+2-3-4+5\n",
            "Processed 091.tif: pose=1+2-3-4-5\n",
            "Processed 182.tif: pose=1+2-3-4-5\n",
            "Processed 152.tif: pose=1-2-3+4-5\n",
            "Processed 292.tif: pose=1-2+3-4-5\n",
            "Processed 300.tif: pose=1+2-3-4+5\n",
            "Processed 146.tif: pose=1-2-3+4+5\n",
            "Processed 267.tif: pose=1-2-3-4+5\n",
            "Processed 265.tif: pose=1-2+3+4-5\n",
            "Processed 175.tif: pose=1+2-3-4+5\n",
            "Processed 231.tif: pose=1+2-3-4+5\n",
            "Processed 230.tif: pose=1+2-3-4+5\n",
            "Processed 144.tif: pose=1+2-3-4+5\n",
            "Processed 225.tif: pose=1+2-3-4+5\n",
            "Processed 158.tif: pose=1+2-3-4+5\n",
            "Processed 274.tif: pose=1-2-3-4+5\n",
            "Processed 240.tif: pose=1+2-3-4+5\n",
            "Processed 201.tif: pose=1+2-3-4-5\n",
            "Processed 067.tif: pose=1-2-3-4-5\n",
            "Processed 281.tif: pose=1+2-3-4-5\n",
            "Processed 017.tif: pose=1+2-3-4-5\n",
            "Processed 107.tif: pose=1-2-3+4+5\n",
            "Processed 284.tif: pose=1-2-3-4+5\n",
            "Processed 078.tif: pose=1-2-3-4-5\n",
            "Processed 147.tif: pose=1+2-3-4-5\n",
            "Processed 217.tif: pose=1+2-3-4+5\n",
            "Processed 070.tif: pose=1-2-3-4-5\n",
            "Processed 174.tif: pose=1+2-3-4+5\n",
            "Processed 196.tif: pose=1-2-3-4+5\n",
            "Processed 162.tif: pose=1-2-3-4+5\n",
            "Processed 187.tif: pose=1+2-3-4-5\n",
            "Processed 288.tif: pose=1+2-3-4+5\n",
            "Processed 252.tif: pose=1+2-3-4-5\n",
            "Processed 248.tif: pose=1+2-3-4+5\n",
            "Processed 272.tif: pose=1-2-3+4-5\n",
            "Processed 226.tif: pose=1-2-3-4+5\n",
            "Processed 235.tif: pose=1+2-3-4-5\n",
            "Processed 145.tif: pose=1+2-3-4+5\n",
            "Processed 247.tif: pose=1+2-3-4-5\n",
            "Processed 055.tif: pose=1+2-3-4-5\n",
            "Processed 098.tif: pose=1-2-3-4+5\n",
            "Processed 254.tif: pose=1+2-3-4+5\n",
            "Processed 195.tif: pose=1+2-3+4+5\n",
            "Processed 090.tif: pose=1-2-3-4+5\n",
            "Processed 044.tif: pose=1+2-3-4-5\n",
            "Processed 280.tif: pose=1-2-3-4-5\n",
            "Processed 177.tif: pose=1+2-3-4+5\n",
            "Processed 271.tif: pose=1-2-3-4+5\n",
            "Processed 184.tif: pose=1-2-3+4+5\n",
            "Processed 266.tif: pose=1+2-3-4-5\n",
            "Processed 168.tif: pose=1+2-3+4+5\n",
            "Processed 103.tif: pose=1+2-3-4-5\n",
            "Processed 125.tif: pose=1+2-3-4-5\n",
            "Processed 150.tif: pose=1-2-3-4+5\n",
            "Processed 165.tif: pose=1+2-3-4-5\n",
            "Processed 156.tif: pose=1-2-3+4+5\n",
            "Processed 108.tif: pose=1-2-3+4-5\n",
            "Processed 185.tif: pose=1-2-3-4+5\n",
            "Processed 289.tif: pose=1-2-3+4+5\n",
            "Processed 286.tif: pose=1-2-3-4-5\n",
            "Processed 277.tif: pose=1-2-3-4+5\n"
          ]
        }
      ],
      "source": [
        "for filename in os.listdir(IMAGE_DIR):\n",
        "    if not filename.lower().endswith('.tif'):\n",
        "        continue\n",
        "    img_path = os.path.join(IMAGE_DIR, filename)\n",
        "    image = cv2.imread(img_path)\n",
        "    h, w, _ = image.shape\n",
        "    rgb = cv2.cvtColor(image, cv2.COLOR_BGR2RGB)\n",
        "\n",
        "    result = hands.process(rgb)\n",
        "    if not result.multi_hand_landmarks:\n",
        "        print(f'No hand detected in {filename}')\n",
        "        continue\n",
        "    hand_lms = result.multi_hand_landmarks[0]\n",
        "\n",
        "    lm_coords = []\n",
        "    for lm in hand_lms.landmark:\n",
        "        lm_coords.append((int(lm.x * w), int(lm.y * h)))\n",
        "\n",
        "    tip_ids = [4, 8, 12, 16, 20]\n",
        "    base_ids = [2, 5, 9, 13, 17]\n",
        "    tips = [lm_coords[i] for i in tip_ids]\n",
        "    valleys = []\n",
        "    for j in range(4):\n",
        "        i = base_ids[j]\n",
        "        i_next = base_ids[j + 1]\n",
        "        x_coord = (lm_coords[i][0] + lm_coords[i_next][0]) / 2\n",
        "        y_coord = (lm_coords[i][1] + lm_coords[i_next][1]) / 2\n",
        "        valleys.append((x_coord, y_coord))\n",
        "\n",
        "    pose_parts = []\n",
        "    for i, tip in enumerate(tips[:-1]):\n",
        "        nxt = tips[i+1]\n",
        "        dist = cosine_similarity(tip, nxt)\n",
        "        pose_parts.append('+' if dist < THRESHOLD else '-')\n",
        "    pose_code = ''.join(f'{i+1}{pose_parts[i]}' for i in range(len(pose_parts)))\n",
        "    pose_code += '5'\n",
        "\n",
        "    res_path = os.path.join(OUTPUT_DIR, f'{os.path.splitext(filename)[0]}_Results.txt')\n",
        "    with open(res_path, 'w') as f:\n",
        "        f.write(pose_code + '\\n')\n",
        "        parts = [f'!,{filename}']\n",
        "        for x, y in tips:\n",
        "            parts.append(f'T {x} {y}')\n",
        "        for x, y in valleys:\n",
        "            parts.append(f'V {x} {y}')\n",
        "        parts.append('?')\n",
        "        f.write(','.join(parts) + '\\n')\n",
        "\n",
        "    cv2.putText(image, pose_code, (10, 30), cv2.FONT_HERSHEY_SIMPLEX, 1, (0, 255, 0), 2)\n",
        "    line_pts = []\n",
        "    for i in range(len(tips)):\n",
        "        line_pts.append(tips[i])\n",
        "        if i < len(valleys):\n",
        "            line_pts.append(valleys[i])\n",
        "    cv2.polylines(image, [np.array(line_pts, dtype=np.int32)], False, (255, 0, 0), 2)\n",
        "\n",
        "    out_img_path = os.path.join(OUTPUT_DIR, filename)\n",
        "    cv2.imwrite(out_img_path, image)\n",
        "    print(f'Processed {filename}: pose={pose_code}')\n",
        "\n",
        "hands.close()"
      ]
    },
    {
      "cell_type": "code",
      "source": [],
      "metadata": {
        "id": "vb2Vx1baxvcs"
      },
      "execution_count": null,
      "outputs": []
    }
  ]
}